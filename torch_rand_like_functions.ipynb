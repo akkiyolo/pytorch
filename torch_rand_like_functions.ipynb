{
  "nbformat": 4,
  "nbformat_minor": 0,
  "metadata": {
    "colab": {
      "provenance": [],
      "authorship_tag": "ABX9TyNfo/C74K2yEKjz+45hM5m7",
      "include_colab_link": true
    },
    "kernelspec": {
      "name": "python3",
      "display_name": "Python 3"
    },
    "language_info": {
      "name": "python"
    }
  },
  "cells": [
    {
      "cell_type": "markdown",
      "metadata": {
        "id": "view-in-github",
        "colab_type": "text"
      },
      "source": [
        "<a href=\"https://colab.research.google.com/github/akkiyolo/pytorch/blob/main/torch_rand_like_functions.ipynb\" target=\"_parent\"><img src=\"https://colab.research.google.com/assets/colab-badge.svg\" alt=\"Open In Colab\"/></a>"
      ]
    },
    {
      "cell_type": "markdown",
      "source": [
        "#### \"Random like\" functions generate random tensors with the same shape and other properties (like dtype, device, layout) as an existing tensor. Think of them as shortcuts to generate random values that are shaped like another tensor."
      ],
      "metadata": {
        "id": "MDYYAj76T4Hk"
      }
    },
    {
      "cell_type": "code",
      "execution_count": 1,
      "metadata": {
        "id": "XuqbbKQzToTb"
      },
      "outputs": [],
      "source": [
        "import torch"
      ]
    },
    {
      "cell_type": "code",
      "source": [
        "tensor=torch.tensor([[1,2,3],[4,5,6]])\n",
        "tensor"
      ],
      "metadata": {
        "colab": {
          "base_uri": "https://localhost:8080/"
        },
        "id": "PBXz903WVKCB",
        "outputId": "6c1ba7ae-0c22-4302-f5c3-70fbcf9a8005"
      },
      "execution_count": 2,
      "outputs": [
        {
          "output_type": "execute_result",
          "data": {
            "text/plain": [
              "tensor([[1, 2, 3],\n",
              "        [4, 5, 6]])"
            ]
          },
          "metadata": {},
          "execution_count": 2
        }
      ]
    },
    {
      "cell_type": "markdown",
      "source": [
        "#### torch.rand_like(input)\n",
        "\n",
        "Creates a tensor of the same shape as input, filled with uniformly distributed random numbers in the range [0,1]."
      ],
      "metadata": {
        "id": "nfcxW5wUVbbE"
      }
    },
    {
      "cell_type": "code",
      "source": [
        "torch.rand_like(tensor,dtype=torch.float)\n"
      ],
      "metadata": {
        "colab": {
          "base_uri": "https://localhost:8080/"
        },
        "id": "QO_mub9wVZPo",
        "outputId": "4a088149-cd95-4a36-f91a-85421f29ea93"
      },
      "execution_count": 3,
      "outputs": [
        {
          "output_type": "execute_result",
          "data": {
            "text/plain": [
              "tensor([[0.8652, 0.7955, 0.8554],\n",
              "        [0.4542, 0.2274, 0.5896]])"
            ]
          },
          "metadata": {},
          "execution_count": 3
        }
      ]
    },
    {
      "cell_type": "markdown",
      "source": [
        "#### torch.randn_like(input)\n",
        "\n",
        "Creates a tensor with the same shape and attributes as input, filled with normally distributed (Gaussian) random numbers, where:\n",
        "Mean = 0\n",
        "Standard Deviation = 1"
      ],
      "metadata": {
        "id": "MQblVUSoVuGe"
      }
    },
    {
      "cell_type": "code",
      "source": [
        "torch.randn_like(tensor,dtype=torch.float)"
      ],
      "metadata": {
        "colab": {
          "base_uri": "https://localhost:8080/"
        },
        "id": "re2FTYofVwLn",
        "outputId": "b506a711-94af-4de0-fb2e-678d110b3ed5"
      },
      "execution_count": 4,
      "outputs": [
        {
          "output_type": "execute_result",
          "data": {
            "text/plain": [
              "tensor([[-0.3537, -1.3254,  0.3635],\n",
              "        [-0.1346,  0.3930,  0.2339]])"
            ]
          },
          "metadata": {},
          "execution_count": 4
        }
      ]
    },
    {
      "cell_type": "markdown",
      "source": [
        "#### torch.randint_like(input, low, high)\n",
        "\n",
        "Creates a tensor with the same shape and layout as input, filled with random integers in the range [low, high].\n",
        "Note: Because if your base tensor is int type, then rand_like and randn_like won't work correctly unless you change dtype to float."
      ],
      "metadata": {
        "id": "odsxOAOrVzt-"
      }
    },
    {
      "cell_type": "code",
      "source": [
        "torch.randint_like(tensor,low=10,high=100)"
      ],
      "metadata": {
        "colab": {
          "base_uri": "https://localhost:8080/"
        },
        "id": "sLRtkC8qV2si",
        "outputId": "b7c4435a-7fda-4610-e048-1c760e93b89f"
      },
      "execution_count": 5,
      "outputs": [
        {
          "output_type": "execute_result",
          "data": {
            "text/plain": [
              "tensor([[74, 80, 38],\n",
              "        [75, 76, 54]])"
            ]
          },
          "metadata": {},
          "execution_count": 5
        }
      ]
    }
  ]
}