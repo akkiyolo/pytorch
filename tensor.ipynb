{
  "nbformat": 4,
  "nbformat_minor": 0,
  "metadata": {
    "colab": {
      "provenance": [],
      "authorship_tag": "ABX9TyMHy4a/LS3Uf4HvLoKZl6GE",
      "include_colab_link": true
    },
    "kernelspec": {
      "name": "python3",
      "display_name": "Python 3"
    },
    "language_info": {
      "name": "python"
    }
  },
  "cells": [
    {
      "cell_type": "markdown",
      "metadata": {
        "id": "view-in-github",
        "colab_type": "text"
      },
      "source": [
        "<a href=\"https://colab.research.google.com/github/akkiyolo/pytorch/blob/main/tensor.ipynb\" target=\"_parent\"><img src=\"https://colab.research.google.com/assets/colab-badge.svg\" alt=\"Open In Colab\"/></a>"
      ]
    },
    {
      "cell_type": "markdown",
      "source": [
        "PyTorch Tensor Creation Explained:\n",
        "torch.tensor(), torch.as_tensor(), torch.from_numpy()\n",
        "\n",
        "Three fundamental functions to create tensors in PyTorch: torch.tensor(), torch.as_tensor(), and torch.from_numpy().\n"
      ],
      "metadata": {
        "id": "439tsjaUvCEz"
      }
    },
    {
      "cell_type": "code",
      "execution_count": 2,
      "metadata": {
        "id": "8-T8AGA_q-Xa"
      },
      "outputs": [],
      "source": [
        "import torch\n"
      ]
    },
    {
      "cell_type": "markdown",
      "source": [
        "torch.tensor() creates a new tensor by copying data from a Python list, tuple, NumPy array, or scalar. It always copies the data, so the tensor and the original data do not share memory.\n",
        "\n",
        "Parameters:\n",
        "- data: The input data (e.g., list, tuple, or NumPy array) to convert into a tensor.\n",
        "- dtype (optional): Specifies the data type, like torch.float32, torch.int64, or torch.bool. If not provided, PyTorch infers it from the input.\n",
        "- device (optional): Defines where the tensor lives, like cpu or cuda for GPU. Default is CPU.\n",
        "- requires_grad (optional): A boolean that, if True, tracks operations for gradient computation. Default is False.\n",
        "- pin_memory (optional): If True, allocates the tensor in pinned memory for faster CPU-to-GPU transfers. Default is False.\n",
        "\n",
        "Note: Since data is copied, modifying the tensor does NOT affect the original NumPy array"
      ],
      "metadata": {
        "id": "QAu1d7qXvk57"
      }
    },
    {
      "cell_type": "code",
      "source": [
        "scalar=torch.tensor(5)\n",
        "scalar"
      ],
      "metadata": {
        "colab": {
          "base_uri": "https://localhost:8080/"
        },
        "id": "l1GDwIA5tGcU",
        "outputId": "ec1bc767-720e-4955-8e3a-8c006f799596"
      },
      "execution_count": 3,
      "outputs": [
        {
          "output_type": "execute_result",
          "data": {
            "text/plain": [
              "tensor(5)"
            ]
          },
          "metadata": {},
          "execution_count": 3
        }
      ]
    },
    {
      "cell_type": "code",
      "source": [
        "scalar.ndim"
      ],
      "metadata": {
        "colab": {
          "base_uri": "https://localhost:8080/"
        },
        "id": "r3l5LU9ItZtR",
        "outputId": "7547854c-b1ad-44ff-871d-b813d2b6d411"
      },
      "execution_count": 5,
      "outputs": [
        {
          "output_type": "execute_result",
          "data": {
            "text/plain": [
              "0"
            ]
          },
          "metadata": {},
          "execution_count": 5
        }
      ]
    },
    {
      "cell_type": "code",
      "source": [
        "scalar.item()"
      ],
      "metadata": {
        "colab": {
          "base_uri": "https://localhost:8080/"
        },
        "id": "cfKzgW7MtfTG",
        "outputId": "e3bcd0ca-60f9-4da6-8889-efa47567ea43"
      },
      "execution_count": 6,
      "outputs": [
        {
          "output_type": "execute_result",
          "data": {
            "text/plain": [
              "5"
            ]
          },
          "metadata": {},
          "execution_count": 6
        }
      ]
    },
    {
      "cell_type": "code",
      "source": [
        "vector=torch.tensor([5,5])\n",
        "vector"
      ],
      "metadata": {
        "colab": {
          "base_uri": "https://localhost:8080/"
        },
        "id": "6syYAL8jtzvm",
        "outputId": "59257f80-4583-4396-9bb4-2669f0737104"
      },
      "execution_count": 7,
      "outputs": [
        {
          "output_type": "execute_result",
          "data": {
            "text/plain": [
              "tensor([5, 5])"
            ]
          },
          "metadata": {},
          "execution_count": 7
        }
      ]
    },
    {
      "cell_type": "code",
      "source": [
        "vector.ndim"
      ],
      "metadata": {
        "colab": {
          "base_uri": "https://localhost:8080/"
        },
        "id": "5dLCB6FFt8zJ",
        "outputId": "01046c01-2f8a-4b68-a6c8-05d95a029608"
      },
      "execution_count": 8,
      "outputs": [
        {
          "output_type": "execute_result",
          "data": {
            "text/plain": [
              "1"
            ]
          },
          "metadata": {},
          "execution_count": 8
        }
      ]
    },
    {
      "cell_type": "code",
      "source": [
        "vector.shape"
      ],
      "metadata": {
        "colab": {
          "base_uri": "https://localhost:8080/"
        },
        "id": "ifPJCx3VuiEw",
        "outputId": "cc9c3b1c-6283-46e6-943d-48f9ffc9aceb"
      },
      "execution_count": 10,
      "outputs": [
        {
          "output_type": "execute_result",
          "data": {
            "text/plain": [
              "torch.Size([2])"
            ]
          },
          "metadata": {},
          "execution_count": 10
        }
      ]
    },
    {
      "cell_type": "code",
      "source": [
        "MATRIX=torch.tensor([[1,2,3],\n",
        "                    [5,6,7]])\n",
        "MATRIX"
      ],
      "metadata": {
        "colab": {
          "base_uri": "https://localhost:8080/"
        },
        "id": "_A_rLUvpuoks",
        "outputId": "73daf93c-489a-47cd-8234-a131a0535565"
      },
      "execution_count": 12,
      "outputs": [
        {
          "output_type": "execute_result",
          "data": {
            "text/plain": [
              "tensor([[1, 2, 3],\n",
              "        [5, 6, 7]])"
            ]
          },
          "metadata": {},
          "execution_count": 12
        }
      ]
    },
    {
      "cell_type": "code",
      "source": [
        "MATRIX.ndim"
      ],
      "metadata": {
        "colab": {
          "base_uri": "https://localhost:8080/"
        },
        "id": "Hipq-V5Lu6Pn",
        "outputId": "148a49ae-e294-431f-86cd-dd6fb0418162"
      },
      "execution_count": 13,
      "outputs": [
        {
          "output_type": "execute_result",
          "data": {
            "text/plain": [
              "2"
            ]
          },
          "metadata": {},
          "execution_count": 13
        }
      ]
    },
    {
      "cell_type": "code",
      "source": [
        "MATRIX.shape"
      ],
      "metadata": {
        "colab": {
          "base_uri": "https://localhost:8080/"
        },
        "id": "UXLQM3ZHu8oX",
        "outputId": "ec2ddd1d-62b9-40e1-dc40-f3dbbe271293"
      },
      "execution_count": 14,
      "outputs": [
        {
          "output_type": "execute_result",
          "data": {
            "text/plain": [
              "torch.Size([2, 3])"
            ]
          },
          "metadata": {},
          "execution_count": 14
        }
      ]
    },
    {
      "cell_type": "code",
      "source": [
        "tensor=torch.tensor([[1,2,3],\n",
        "                     [5,100,58],\n",
        "                     [78,45,69],\n",
        "                     [65,1,3]])\n",
        "tensor"
      ],
      "metadata": {
        "colab": {
          "base_uri": "https://localhost:8080/"
        },
        "id": "xAIQfCV9v7B5",
        "outputId": "a6ebb0db-7ac2-4e55-a342-0d690284b426"
      },
      "execution_count": 15,
      "outputs": [
        {
          "output_type": "execute_result",
          "data": {
            "text/plain": [
              "tensor([[  1,   2,   3],\n",
              "        [  5, 100,  58],\n",
              "        [ 78,  45,  69],\n",
              "        [ 65,   1,   3]])"
            ]
          },
          "metadata": {},
          "execution_count": 15
        }
      ]
    },
    {
      "cell_type": "code",
      "source": [
        "tensor.ndim"
      ],
      "metadata": {
        "colab": {
          "base_uri": "https://localhost:8080/"
        },
        "id": "mloG6uVav7LZ",
        "outputId": "a0daa78e-5602-452e-bda5-35e66621ed68"
      },
      "execution_count": 16,
      "outputs": [
        {
          "output_type": "execute_result",
          "data": {
            "text/plain": [
              "2"
            ]
          },
          "metadata": {},
          "execution_count": 16
        }
      ]
    },
    {
      "cell_type": "code",
      "source": [
        "tensor.shape"
      ],
      "metadata": {
        "colab": {
          "base_uri": "https://localhost:8080/"
        },
        "id": "ZNnFtn2BwSU8",
        "outputId": "66d0892a-f5d5-4de9-a4b1-8b41afd75de6"
      },
      "execution_count": 17,
      "outputs": [
        {
          "output_type": "execute_result",
          "data": {
            "text/plain": [
              "torch.Size([4, 3])"
            ]
          },
          "metadata": {},
          "execution_count": 17
        }
      ]
    }
  ]
}