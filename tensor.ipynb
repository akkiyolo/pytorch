{
  "nbformat": 4,
  "nbformat_minor": 0,
  "metadata": {
    "colab": {
      "provenance": [],
      "authorship_tag": "ABX9TyM8HiSVJwXh9K9Uq8kN+R8c",
      "include_colab_link": true
    },
    "kernelspec": {
      "name": "python3",
      "display_name": "Python 3"
    },
    "language_info": {
      "name": "python"
    }
  },
  "cells": [
    {
      "cell_type": "markdown",
      "metadata": {
        "id": "view-in-github",
        "colab_type": "text"
      },
      "source": [
        "<a href=\"https://colab.research.google.com/github/akkiyolo/pytorch/blob/main/tensor.ipynb\" target=\"_parent\"><img src=\"https://colab.research.google.com/assets/colab-badge.svg\" alt=\"Open In Colab\"/></a>"
      ]
    },
    {
      "cell_type": "markdown",
      "source": [
        "PyTorch Tensor Creation Explained:\n",
        "torch.tensor(), torch.as_tensor(), torch.from_numpy()\n",
        "\n",
        "Three fundamental functions to create tensors in PyTorch: torch.tensor(), torch.as_tensor(), and torch.from_numpy().\n"
      ],
      "metadata": {
        "id": "439tsjaUvCEz"
      }
    },
    {
      "cell_type": "code",
      "execution_count": 2,
      "metadata": {
        "id": "8-T8AGA_q-Xa"
      },
      "outputs": [],
      "source": [
        "import torch\n"
      ]
    },
    {
      "cell_type": "markdown",
      "source": [
        "torch.tensor() creates a new tensor by copying data from a Python list, tuple, NumPy array, or scalar. It always copies the data, so the tensor and the original data do not share memory.\n",
        "\n",
        "Parameters:\n",
        "- data: The input data (e.g., list, tuple, or NumPy array) to convert into a tensor.\n",
        "- dtype (optional): Specifies the data type, like torch.float32, torch.int64, or torch.bool. If not provided, PyTorch infers it from the input.\n",
        "- device (optional): Defines where the tensor lives, like cpu or cuda for GPU. Default is CPU.\n",
        "- requires_grad (optional): A boolean that, if True, tracks operations for gradient computation. Default is False.\n",
        "- pin_memory (optional): If True, allocates the tensor in pinned memory for faster CPU-to-GPU transfers. Default is False.\n",
        "\n",
        "Note: Since data is copied, modifying the tensor does NOT affect the original NumPy array"
      ],
      "metadata": {
        "id": "QAu1d7qXvk57"
      }
    },
    {
      "cell_type": "code",
      "source": [
        "scalar=torch.tensor(5)\n",
        "scalar"
      ],
      "metadata": {
        "colab": {
          "base_uri": "https://localhost:8080/"
        },
        "id": "l1GDwIA5tGcU",
        "outputId": "ec1bc767-720e-4955-8e3a-8c006f799596"
      },
      "execution_count": 3,
      "outputs": [
        {
          "output_type": "execute_result",
          "data": {
            "text/plain": [
              "tensor(5)"
            ]
          },
          "metadata": {},
          "execution_count": 3
        }
      ]
    },
    {
      "cell_type": "code",
      "source": [
        "scalar.ndim"
      ],
      "metadata": {
        "colab": {
          "base_uri": "https://localhost:8080/"
        },
        "id": "r3l5LU9ItZtR",
        "outputId": "7547854c-b1ad-44ff-871d-b813d2b6d411"
      },
      "execution_count": 5,
      "outputs": [
        {
          "output_type": "execute_result",
          "data": {
            "text/plain": [
              "0"
            ]
          },
          "metadata": {},
          "execution_count": 5
        }
      ]
    },
    {
      "cell_type": "code",
      "source": [
        "scalar.item()"
      ],
      "metadata": {
        "colab": {
          "base_uri": "https://localhost:8080/"
        },
        "id": "cfKzgW7MtfTG",
        "outputId": "e3bcd0ca-60f9-4da6-8889-efa47567ea43"
      },
      "execution_count": 6,
      "outputs": [
        {
          "output_type": "execute_result",
          "data": {
            "text/plain": [
              "5"
            ]
          },
          "metadata": {},
          "execution_count": 6
        }
      ]
    },
    {
      "cell_type": "code",
      "source": [
        "vector=torch.tensor([5,5])\n",
        "vector"
      ],
      "metadata": {
        "colab": {
          "base_uri": "https://localhost:8080/"
        },
        "id": "6syYAL8jtzvm",
        "outputId": "59257f80-4583-4396-9bb4-2669f0737104"
      },
      "execution_count": 7,
      "outputs": [
        {
          "output_type": "execute_result",
          "data": {
            "text/plain": [
              "tensor([5, 5])"
            ]
          },
          "metadata": {},
          "execution_count": 7
        }
      ]
    },
    {
      "cell_type": "code",
      "source": [
        "vector.ndim"
      ],
      "metadata": {
        "colab": {
          "base_uri": "https://localhost:8080/"
        },
        "id": "5dLCB6FFt8zJ",
        "outputId": "01046c01-2f8a-4b68-a6c8-05d95a029608"
      },
      "execution_count": 8,
      "outputs": [
        {
          "output_type": "execute_result",
          "data": {
            "text/plain": [
              "1"
            ]
          },
          "metadata": {},
          "execution_count": 8
        }
      ]
    },
    {
      "cell_type": "code",
      "source": [
        "vector.shape"
      ],
      "metadata": {
        "colab": {
          "base_uri": "https://localhost:8080/"
        },
        "id": "ifPJCx3VuiEw",
        "outputId": "cc9c3b1c-6283-46e6-943d-48f9ffc9aceb"
      },
      "execution_count": 10,
      "outputs": [
        {
          "output_type": "execute_result",
          "data": {
            "text/plain": [
              "torch.Size([2])"
            ]
          },
          "metadata": {},
          "execution_count": 10
        }
      ]
    },
    {
      "cell_type": "code",
      "source": [
        "MATRIX=torch.tensor([[1,2,3],\n",
        "                    [5,6,7]])\n",
        "MATRIX"
      ],
      "metadata": {
        "colab": {
          "base_uri": "https://localhost:8080/"
        },
        "id": "_A_rLUvpuoks",
        "outputId": "73daf93c-489a-47cd-8234-a131a0535565"
      },
      "execution_count": 12,
      "outputs": [
        {
          "output_type": "execute_result",
          "data": {
            "text/plain": [
              "tensor([[1, 2, 3],\n",
              "        [5, 6, 7]])"
            ]
          },
          "metadata": {},
          "execution_count": 12
        }
      ]
    },
    {
      "cell_type": "code",
      "source": [
        "MATRIX.ndim"
      ],
      "metadata": {
        "colab": {
          "base_uri": "https://localhost:8080/"
        },
        "id": "Hipq-V5Lu6Pn",
        "outputId": "148a49ae-e294-431f-86cd-dd6fb0418162"
      },
      "execution_count": 13,
      "outputs": [
        {
          "output_type": "execute_result",
          "data": {
            "text/plain": [
              "2"
            ]
          },
          "metadata": {},
          "execution_count": 13
        }
      ]
    },
    {
      "cell_type": "code",
      "source": [
        "MATRIX.shape"
      ],
      "metadata": {
        "colab": {
          "base_uri": "https://localhost:8080/"
        },
        "id": "UXLQM3ZHu8oX",
        "outputId": "ec2ddd1d-62b9-40e1-dc40-f3dbbe271293"
      },
      "execution_count": 14,
      "outputs": [
        {
          "output_type": "execute_result",
          "data": {
            "text/plain": [
              "torch.Size([2, 3])"
            ]
          },
          "metadata": {},
          "execution_count": 14
        }
      ]
    },
    {
      "cell_type": "code",
      "source": [
        "tensor=torch.tensor([[1,2,3],\n",
        "                     [5,100,58],\n",
        "                     [78,45,69],\n",
        "                     [65,1,3]])\n",
        "tensor"
      ],
      "metadata": {
        "colab": {
          "base_uri": "https://localhost:8080/"
        },
        "id": "xAIQfCV9v7B5",
        "outputId": "a6ebb0db-7ac2-4e55-a342-0d690284b426"
      },
      "execution_count": 15,
      "outputs": [
        {
          "output_type": "execute_result",
          "data": {
            "text/plain": [
              "tensor([[  1,   2,   3],\n",
              "        [  5, 100,  58],\n",
              "        [ 78,  45,  69],\n",
              "        [ 65,   1,   3]])"
            ]
          },
          "metadata": {},
          "execution_count": 15
        }
      ]
    },
    {
      "cell_type": "code",
      "source": [
        "tensor.ndim"
      ],
      "metadata": {
        "colab": {
          "base_uri": "https://localhost:8080/"
        },
        "id": "mloG6uVav7LZ",
        "outputId": "a0daa78e-5602-452e-bda5-35e66621ed68"
      },
      "execution_count": 16,
      "outputs": [
        {
          "output_type": "execute_result",
          "data": {
            "text/plain": [
              "2"
            ]
          },
          "metadata": {},
          "execution_count": 16
        }
      ]
    },
    {
      "cell_type": "code",
      "source": [
        "tensor.shape"
      ],
      "metadata": {
        "colab": {
          "base_uri": "https://localhost:8080/"
        },
        "id": "ZNnFtn2BwSU8",
        "outputId": "66d0892a-f5d5-4de9-a4b1-8b41afd75de6"
      },
      "execution_count": 17,
      "outputs": [
        {
          "output_type": "execute_result",
          "data": {
            "text/plain": [
              "torch.Size([4, 3])"
            ]
          },
          "metadata": {},
          "execution_count": 17
        }
      ]
    },
    {
      "cell_type": "code",
      "source": [
        "tensor_a=torch.tensor([10,20,30])\n",
        "tensor_a"
      ],
      "metadata": {
        "colab": {
          "base_uri": "https://localhost:8080/"
        },
        "id": "jJpGClVhxMVr",
        "outputId": "3dad06bb-08bf-41d9-d120-18b96e4ac6b2"
      },
      "execution_count": 18,
      "outputs": [
        {
          "output_type": "execute_result",
          "data": {
            "text/plain": [
              "tensor([10, 20, 30])"
            ]
          },
          "metadata": {},
          "execution_count": 18
        }
      ]
    },
    {
      "cell_type": "code",
      "source": [
        "tensor_a[0]=999\n",
        "tensor_a"
      ],
      "metadata": {
        "colab": {
          "base_uri": "https://localhost:8080/"
        },
        "id": "6ay74y-5xUEH",
        "outputId": "6cc71658-da4a-4444-e983-9845ec888ba4"
      },
      "execution_count": 19,
      "outputs": [
        {
          "output_type": "execute_result",
          "data": {
            "text/plain": [
              "tensor([999,  20,  30])"
            ]
          },
          "metadata": {},
          "execution_count": 19
        }
      ]
    },
    {
      "cell_type": "code",
      "source": [
        "x=torch.tensor(5)\n",
        "x,x.dtype"
      ],
      "metadata": {
        "colab": {
          "base_uri": "https://localhost:8080/"
        },
        "id": "5TZT_UJ5xX-u",
        "outputId": "d6bd20ef-1df7-4842-90b8-49491cc5fc9d"
      },
      "execution_count": 20,
      "outputs": [
        {
          "output_type": "execute_result",
          "data": {
            "text/plain": [
              "(tensor(5), torch.int64)"
            ]
          },
          "metadata": {},
          "execution_count": 20
        }
      ]
    },
    {
      "cell_type": "code",
      "source": [
        "x=torch.tensor(5,dtype=torch.float32)\n",
        "x,x.dtype"
      ],
      "metadata": {
        "colab": {
          "base_uri": "https://localhost:8080/"
        },
        "id": "OlAbXwiuxm73",
        "outputId": "6611db65-a191-4573-f81b-7ae32efb9df7"
      },
      "execution_count": 21,
      "outputs": [
        {
          "output_type": "execute_result",
          "data": {
            "text/plain": [
              "(tensor(5.), torch.float32)"
            ]
          },
          "metadata": {},
          "execution_count": 21
        }
      ]
    },
    {
      "cell_type": "code",
      "source": [
        "x=torch.tensor(5,dtype=torch.float32,device='cpu')\n",
        "x,x.dtype,x.device"
      ],
      "metadata": {
        "colab": {
          "base_uri": "https://localhost:8080/"
        },
        "id": "uY1l_18fxvvL",
        "outputId": "37d1e1bc-3623-43d7-a003-fe9b9d24370c"
      },
      "execution_count": 22,
      "outputs": [
        {
          "output_type": "execute_result",
          "data": {
            "text/plain": [
              "(tensor(5.), torch.float32, device(type='cpu'))"
            ]
          },
          "metadata": {},
          "execution_count": 22
        }
      ]
    },
    {
      "cell_type": "code",
      "source": [
        "x=torch.tensor(5,dtype=torch.float32,device='cpu',requires_grad=True)\n",
        "x,x.dtype,x.device,x.requires_grad"
      ],
      "metadata": {
        "colab": {
          "base_uri": "https://localhost:8080/"
        },
        "id": "vojPAYBrx5nq",
        "outputId": "ccde25c3-c4d4-4657-d228-02d34c1bd25b"
      },
      "execution_count": 23,
      "outputs": [
        {
          "output_type": "execute_result",
          "data": {
            "text/plain": [
              "(tensor(5., requires_grad=True), torch.float32, device(type='cpu'), True)"
            ]
          },
          "metadata": {},
          "execution_count": 23
        }
      ]
    },
    {
      "cell_type": "markdown",
      "source": [
        "torch.as_tensor() tries to avoid copying by sharing memory with the input when possible, making it more memory-efficient, especially with NumPy arrays.\"\n",
        "\n",
        "Parameters:\n",
        "- data: The input data (e.g., list, tuple, or NumPy array).\n",
        "- dtype (optional): Specifies the tensor's data type. If not provided, it matches the input's data type.\n",
        "- device (optional): Specifies the device (cpu or cuda). Default is CPU.\n",
        "- requires_grad (optional): Boolean to enable gradient tracking. Default is False\n",
        "\n",
        "Use case: Efficient when you want to avoid unnecessary data copies and maintain shared memory with NumPy arrays."
      ],
      "metadata": {
        "id": "rjjG_l7xyQ0A"
      }
    },
    {
      "cell_type": "code",
      "source": [
        "tensor_c=torch.as_tensor([10,20,30])\n",
        "tensor_c"
      ],
      "metadata": {
        "colab": {
          "base_uri": "https://localhost:8080/"
        },
        "id": "wS-OE16RySdb",
        "outputId": "5556355e-f44d-47bd-bec5-f8f77fb49bcf"
      },
      "execution_count": 24,
      "outputs": [
        {
          "output_type": "execute_result",
          "data": {
            "text/plain": [
              "tensor([10, 20, 30])"
            ]
          },
          "metadata": {},
          "execution_count": 24
        }
      ]
    },
    {
      "cell_type": "code",
      "source": [
        "tensor_d=torch.as_tensor(tensor_c)\n",
        "tensor_d"
      ],
      "metadata": {
        "colab": {
          "base_uri": "https://localhost:8080/"
        },
        "id": "K34g1V05ypK0",
        "outputId": "b0a2e824-a26d-4ce4-ed91-4b5952b37ee6"
      },
      "execution_count": 25,
      "outputs": [
        {
          "output_type": "execute_result",
          "data": {
            "text/plain": [
              "tensor([10, 20, 30])"
            ]
          },
          "metadata": {},
          "execution_count": 25
        }
      ]
    },
    {
      "cell_type": "code",
      "source": [
        "tensor_c[0]=999\n",
        "tensor_c,tensor_d"
      ],
      "metadata": {
        "colab": {
          "base_uri": "https://localhost:8080/"
        },
        "id": "4mN5TdDSyyzk",
        "outputId": "c08ae2d0-3d35-4784-be90-eb8b294f63e3"
      },
      "execution_count": 26,
      "outputs": [
        {
          "output_type": "execute_result",
          "data": {
            "text/plain": [
              "(tensor([999,  20,  30]), tensor([999,  20,  30]))"
            ]
          },
          "metadata": {},
          "execution_count": 26
        }
      ]
    },
    {
      "cell_type": "markdown",
      "source": [
        "torch.from_numpy(), designed specifically for converting NumPy arrays to PyTorch tensors. Like torch.as_tensor(), it shares memory with the input array, but it's exclusive to NumPy arrays and doesn't accept other data types.\"\n",
        "\n",
        "ndarray: The input NumPy array (no other types allowed).\n",
        "\n",
        "Note: Unlike the other methods, torch.from_numpy() does not accept dtype, device, or requires_grad as parameters. You can set these properties after creating the tensor."
      ],
      "metadata": {
        "id": "vRaTzbjyzEJ1"
      }
    }
  ]
}