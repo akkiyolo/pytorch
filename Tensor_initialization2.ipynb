{
  "nbformat": 4,
  "nbformat_minor": 0,
  "metadata": {
    "colab": {
      "provenance": [],
      "authorship_tag": "ABX9TyO15rZiY9cxEl1b+zwu18NE",
      "include_colab_link": true
    },
    "kernelspec": {
      "name": "python3",
      "display_name": "Python 3"
    },
    "language_info": {
      "name": "python"
    }
  },
  "cells": [
    {
      "cell_type": "markdown",
      "metadata": {
        "id": "view-in-github",
        "colab_type": "text"
      },
      "source": [
        "<a href=\"https://colab.research.google.com/github/akkiyolo/pytorch/blob/main/Tensor_initialization2.ipynb\" target=\"_parent\"><img src=\"https://colab.research.google.com/assets/colab-badge.svg\" alt=\"Open In Colab\"/></a>"
      ]
    },
    {
      "cell_type": "markdown",
      "source": [
        "# torch.full() — Fill Tensor with Custom Value\n",
        "\n",
        "`torch.full()` creates a tensor of a specified shape where every element is initialized to the same constant value.\n",
        "\n",
        "- `torch.full(size, fill_value)`\n",
        "- Creates a tensor of the given size, and fills every element with `fill_value`.\n",
        "- Useful for custom initializations, e.g., when you want all weights to start at a specific number.\n",
        "- Useful in masking, bias initialization, or constant matrix operations\n",
        "\n",
        "## Parameters:\n",
        "- `size (tuple of ints)`\n",
        "- `fill_value (scalar)`\n",
        "- `dtype (optional)`\n",
        "- `device (optional)`\n",
        "- `requires_grad (optional, default=False)`"
      ],
      "metadata": {
        "id": "HvZiIJH9D_O4"
      }
    },
    {
      "cell_type": "code",
      "source": [
        "import torch"
      ],
      "metadata": {
        "id": "BTGzR-s8ECFn"
      },
      "execution_count": 1,
      "outputs": []
    },
    {
      "cell_type": "code",
      "source": [
        "tensor_full=torch.full((2,3), 5)\n",
        "tensor_full"
      ],
      "metadata": {
        "colab": {
          "base_uri": "https://localhost:8080/"
        },
        "id": "oemuOrgfEJvx",
        "outputId": "e4f476da-9bd6-4e7e-b211-b1d68399abc6"
      },
      "execution_count": 3,
      "outputs": [
        {
          "output_type": "execute_result",
          "data": {
            "text/plain": [
              "tensor([[5, 5, 5],\n",
              "        [5, 5, 5]])"
            ]
          },
          "metadata": {},
          "execution_count": 3
        }
      ]
    },
    {
      "cell_type": "code",
      "source": [
        "torch.full(size=(2,2),fill_value=7,dtype=torch.float32,device='cpu',requires_grad=False)"
      ],
      "metadata": {
        "colab": {
          "base_uri": "https://localhost:8080/"
        },
        "id": "u__YebA2EiOQ",
        "outputId": "c283b167-8364-424a-8e1f-8550d6149dc5"
      },
      "execution_count": 4,
      "outputs": [
        {
          "output_type": "execute_result",
          "data": {
            "text/plain": [
              "tensor([[7., 7.],\n",
              "        [7., 7.]])"
            ]
          },
          "metadata": {},
          "execution_count": 4
        }
      ]
    }
  ]
}