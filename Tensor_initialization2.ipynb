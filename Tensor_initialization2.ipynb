{
  "nbformat": 4,
  "nbformat_minor": 0,
  "metadata": {
    "colab": {
      "provenance": [],
      "authorship_tag": "ABX9TyPyy8BQSvLm5rJlsx+eHXHF",
      "include_colab_link": true
    },
    "kernelspec": {
      "name": "python3",
      "display_name": "Python 3"
    },
    "language_info": {
      "name": "python"
    }
  },
  "cells": [
    {
      "cell_type": "markdown",
      "metadata": {
        "id": "view-in-github",
        "colab_type": "text"
      },
      "source": [
        "<a href=\"https://colab.research.google.com/github/akkiyolo/pytorch/blob/main/Tensor_initialization2.ipynb\" target=\"_parent\"><img src=\"https://colab.research.google.com/assets/colab-badge.svg\" alt=\"Open In Colab\"/></a>"
      ]
    },
    {
      "cell_type": "markdown",
      "source": [
        "# torch.full() — Fill Tensor with Custom Value\n",
        "\n",
        "`torch.full()` creates a tensor of a specified shape where every element is initialized to the same constant value.\n",
        "\n",
        "- `torch.full(size, fill_value)`\n",
        "- Creates a tensor of the given size, and fills every element with `fill_value`.\n",
        "- Useful for custom initializations, e.g., when you want all weights to start at a specific number.\n",
        "- Useful in masking, bias initialization, or constant matrix operations\n",
        "\n",
        "## Parameters:\n",
        "- `size (tuple of ints)`\n",
        "- `fill_value (scalar)`\n",
        "- `dtype (optional)`\n",
        "- `device (optional)`\n",
        "- `requires_grad (optional, default=False)`"
      ],
      "metadata": {
        "id": "HvZiIJH9D_O4"
      }
    },
    {
      "cell_type": "code",
      "source": [
        "import torch"
      ],
      "metadata": {
        "id": "BTGzR-s8ECFn"
      },
      "execution_count": 1,
      "outputs": []
    },
    {
      "cell_type": "code",
      "source": [
        "tensor_full=torch.full((2,3), 5)\n",
        "tensor_full"
      ],
      "metadata": {
        "colab": {
          "base_uri": "https://localhost:8080/"
        },
        "id": "oemuOrgfEJvx",
        "outputId": "e4f476da-9bd6-4e7e-b211-b1d68399abc6"
      },
      "execution_count": 3,
      "outputs": [
        {
          "output_type": "execute_result",
          "data": {
            "text/plain": [
              "tensor([[5, 5, 5],\n",
              "        [5, 5, 5]])"
            ]
          },
          "metadata": {},
          "execution_count": 3
        }
      ]
    },
    {
      "cell_type": "code",
      "source": [
        "torch.full(size=(2,2),fill_value=7,dtype=torch.float32,device='cpu',requires_grad=False)"
      ],
      "metadata": {
        "colab": {
          "base_uri": "https://localhost:8080/"
        },
        "id": "u__YebA2EiOQ",
        "outputId": "c283b167-8364-424a-8e1f-8550d6149dc5"
      },
      "execution_count": 4,
      "outputs": [
        {
          "output_type": "execute_result",
          "data": {
            "text/plain": [
              "tensor([[7., 7.],\n",
              "        [7., 7.]])"
            ]
          },
          "metadata": {},
          "execution_count": 4
        }
      ]
    },
    {
      "cell_type": "markdown",
      "source": [
        "# torch.eye() — Identity Matrix\n",
        "\n",
        "`torch.eye()` creates a 2D identity matrix, i.e., a square matrix with 1s on the diagonal and 0s elsewhere.\n",
        "\n",
        "- `torch.eye(n)` creates a 2D square identity matrix of size n x n.\n",
        "- You can also use `torch.eye(n, m)` for a non-square identity matrix with n rows and m columns.\n",
        "\n",
        "## Parameters:\n",
        "- `n (int)`: Number of rows in the identity matrix.\n",
        "- `m (optional, int)`: Number of columns. If not provided, defaults to n, making a square matrix.\n",
        "- `dtype, device, requires_grad`\n",
        "\n",
        "*Often used in linear algebra for identity matrix operations.\n",
        "*Helpful in transformations, batch operations, and initializing weights to identity in some models."
      ],
      "metadata": {
        "id": "r0rbkAdJFQFJ"
      }
    },
    {
      "cell_type": "code",
      "source": [
        "tensor_a=torch.eye(10)"
      ],
      "metadata": {
        "id": "zaCRwiaQFQ4P"
      },
      "execution_count": 6,
      "outputs": []
    },
    {
      "cell_type": "code",
      "source": [
        "tensor_a"
      ],
      "metadata": {
        "colab": {
          "base_uri": "https://localhost:8080/"
        },
        "id": "lwEu3kVHFXMF",
        "outputId": "c97f0fee-e996-40c7-db56-e84fbabc2c8f"
      },
      "execution_count": 7,
      "outputs": [
        {
          "output_type": "execute_result",
          "data": {
            "text/plain": [
              "tensor([[1., 0., 0., 0., 0., 0., 0., 0., 0., 0.],\n",
              "        [0., 1., 0., 0., 0., 0., 0., 0., 0., 0.],\n",
              "        [0., 0., 1., 0., 0., 0., 0., 0., 0., 0.],\n",
              "        [0., 0., 0., 1., 0., 0., 0., 0., 0., 0.],\n",
              "        [0., 0., 0., 0., 1., 0., 0., 0., 0., 0.],\n",
              "        [0., 0., 0., 0., 0., 1., 0., 0., 0., 0.],\n",
              "        [0., 0., 0., 0., 0., 0., 1., 0., 0., 0.],\n",
              "        [0., 0., 0., 0., 0., 0., 0., 1., 0., 0.],\n",
              "        [0., 0., 0., 0., 0., 0., 0., 0., 1., 0.],\n",
              "        [0., 0., 0., 0., 0., 0., 0., 0., 0., 1.]])"
            ]
          },
          "metadata": {},
          "execution_count": 7
        }
      ]
    },
    {
      "cell_type": "code",
      "source": [
        "tensor_b=torch.eye(2,3)\n",
        "tensor_b"
      ],
      "metadata": {
        "colab": {
          "base_uri": "https://localhost:8080/"
        },
        "id": "02KRfeKdFgDd",
        "outputId": "4fc68a92-cfc0-4da3-ad4c-a8bb0aaf9e0d"
      },
      "execution_count": 9,
      "outputs": [
        {
          "output_type": "execute_result",
          "data": {
            "text/plain": [
              "tensor([[1., 0., 0.],\n",
              "        [0., 1., 0.]])"
            ]
          },
          "metadata": {},
          "execution_count": 9
        }
      ]
    },
    {
      "cell_type": "code",
      "source": [
        "torch.eye(n=3,m=4,dtype=torch.float32,device='cpu',requires_grad=False)"
      ],
      "metadata": {
        "colab": {
          "base_uri": "https://localhost:8080/"
        },
        "id": "A8JitXEAFp9_",
        "outputId": "d8de054d-e751-4555-8621-7c0a98056d34"
      },
      "execution_count": 10,
      "outputs": [
        {
          "output_type": "execute_result",
          "data": {
            "text/plain": [
              "tensor([[1., 0., 0., 0.],\n",
              "        [0., 1., 0., 0.],\n",
              "        [0., 0., 1., 0.]])"
            ]
          },
          "metadata": {},
          "execution_count": 10
        }
      ]
    },
    {
      "cell_type": "markdown",
      "source": [
        "# torch.diag() — Create Diagonal Matrix or Extract Diagonal\n",
        "\n",
        "`torch.diag()` serves two purposes depending on input:\n",
        "- If input is 1D, it returns a 2D diagonal matrix with that vector on the diagonal.\n",
        "- If input is 2D, it returns a 1D vector of the diagonal elements.\n",
        "\n",
        "## Parameters:\n",
        "- `input (Tensor)`: Either a 1D or 2D tensor. Behavior changes based on this.\n",
        "- `diagonal (optional, int, default=0)`: Specifies which diagonal to consider:\n",
        "  - 0: main diagonal,\n",
        "  - Positive: above main diagonal,\n",
        "  - Negative: below main diagonal.\n",
        "\n",
        "*When converting vectors to diagonal matrices or vice versa.\n",
        "*Useful in custom matrix building, tracing, and diagonal scaling operations."
      ],
      "metadata": {
        "id": "GIwq8etDF8gU"
      }
    },
    {
      "cell_type": "code",
      "source": [
        "vector=torch.tensor([10,20,30])\n",
        "torch.diag(vector)"
      ],
      "metadata": {
        "colab": {
          "base_uri": "https://localhost:8080/"
        },
        "id": "05jyuvT6F_xn",
        "outputId": "9df0134f-ec60-4790-a8e9-c4f03a5baa81"
      },
      "execution_count": 11,
      "outputs": [
        {
          "output_type": "execute_result",
          "data": {
            "text/plain": [
              "tensor([[10,  0,  0],\n",
              "        [ 0, 20,  0],\n",
              "        [ 0,  0, 30]])"
            ]
          },
          "metadata": {},
          "execution_count": 11
        }
      ]
    },
    {
      "cell_type": "code",
      "source": [
        "matrix=torch.tensor([[1,2,3],\n",
        "                     [4,5,6],\n",
        "                     [7,8,9]])\n",
        "matrix"
      ],
      "metadata": {
        "colab": {
          "base_uri": "https://localhost:8080/"
        },
        "id": "ttsMwuB0Gmxu",
        "outputId": "5dd05b0a-781a-44d5-82f0-a2329b1e2b19"
      },
      "execution_count": 12,
      "outputs": [
        {
          "output_type": "execute_result",
          "data": {
            "text/plain": [
              "tensor([[1, 2, 3],\n",
              "        [4, 5, 6],\n",
              "        [7, 8, 9]])"
            ]
          },
          "metadata": {},
          "execution_count": 12
        }
      ]
    },
    {
      "cell_type": "code",
      "source": [
        "torch.diag(matrix)"
      ],
      "metadata": {
        "colab": {
          "base_uri": "https://localhost:8080/"
        },
        "id": "j9hUqoQKG7mn",
        "outputId": "aab89539-6a10-4e14-dd6c-b79484ced583"
      },
      "execution_count": 13,
      "outputs": [
        {
          "output_type": "execute_result",
          "data": {
            "text/plain": [
              "tensor([1, 5, 9])"
            ]
          },
          "metadata": {},
          "execution_count": 13
        }
      ]
    },
    {
      "cell_type": "code",
      "source": [
        "vector=torch.tensor([10,20,30])\n",
        "torch.diag(vector,diagonal=1)"
      ],
      "metadata": {
        "colab": {
          "base_uri": "https://localhost:8080/"
        },
        "id": "fRHUFySoHLeF",
        "outputId": "82eb0bd1-5aea-4405-c9a9-887d612a86ea"
      },
      "execution_count": 14,
      "outputs": [
        {
          "output_type": "execute_result",
          "data": {
            "text/plain": [
              "tensor([[ 0, 10,  0,  0],\n",
              "        [ 0,  0, 20,  0],\n",
              "        [ 0,  0,  0, 30],\n",
              "        [ 0,  0,  0,  0]])"
            ]
          },
          "metadata": {},
          "execution_count": 14
        }
      ]
    }
  ]
}