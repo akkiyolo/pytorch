{
  "nbformat": 4,
  "nbformat_minor": 0,
  "metadata": {
    "colab": {
      "provenance": [],
      "authorship_tag": "ABX9TyPx4sZ3uGnKLYLTQ6SQ6RNr",
      "include_colab_link": true
    },
    "kernelspec": {
      "name": "python3",
      "display_name": "Python 3"
    },
    "language_info": {
      "name": "python"
    }
  },
  "cells": [
    {
      "cell_type": "markdown",
      "metadata": {
        "id": "view-in-github",
        "colab_type": "text"
      },
      "source": [
        "<a href=\"https://colab.research.google.com/github/akkiyolo/pytorch/blob/main/Tensor_initialization.ipynb\" target=\"_parent\"><img src=\"https://colab.research.google.com/assets/colab-badge.svg\" alt=\"Open In Colab\"/></a>"
      ]
    },
    {
      "cell_type": "markdown",
      "source": [
        "Pytorch tensor initialization :\n",
        "-  torch.zeros()\n",
        "-  torch.ones()\n",
        "-  torch.empty()"
      ],
      "metadata": {
        "id": "x8CgvP08J-u5"
      }
    },
    {
      "cell_type": "code",
      "execution_count": 1,
      "metadata": {
        "id": "_8Z0u6-408sD"
      },
      "outputs": [],
      "source": [
        "import torch"
      ]
    },
    {
      "cell_type": "markdown",
      "source": [
        "torch.ones() generates a tensor filled with the value 1.0, configured by the specified shape and optional parameters.\n",
        "\n",
        "Used:\n",
        "\n",
        "* torch.ones() is used to create scaling tensors for element-wise operations, such as normalizing attention scores in transformers.\n",
        "* It's valuable for initializing constant tensors in algorithms like reinforcement learning or custom loss functions.\n",
        "Its predictable values ensure consistency in tasks requiring uniform starting points, like attention masks.\n",
        "\n",
        "- Parameters: size dtype device requires_grad"
      ],
      "metadata": {
        "id": "bgZy7RrLKgLH"
      }
    },
    {
      "cell_type": "code",
      "source": [
        "one_tensor=torch.ones(10,5)\n",
        "one_tensor"
      ],
      "metadata": {
        "colab": {
          "base_uri": "https://localhost:8080/"
        },
        "id": "A7KfaAX9Jxhj",
        "outputId": "02459fe1-9c0f-4511-c22a-96bcc4478ee5"
      },
      "execution_count": 2,
      "outputs": [
        {
          "output_type": "execute_result",
          "data": {
            "text/plain": [
              "tensor([[1., 1., 1., 1., 1.],\n",
              "        [1., 1., 1., 1., 1.],\n",
              "        [1., 1., 1., 1., 1.],\n",
              "        [1., 1., 1., 1., 1.],\n",
              "        [1., 1., 1., 1., 1.],\n",
              "        [1., 1., 1., 1., 1.],\n",
              "        [1., 1., 1., 1., 1.],\n",
              "        [1., 1., 1., 1., 1.],\n",
              "        [1., 1., 1., 1., 1.],\n",
              "        [1., 1., 1., 1., 1.]])"
            ]
          },
          "metadata": {},
          "execution_count": 2
        }
      ]
    },
    {
      "cell_type": "code",
      "source": [
        "ones_full=torch.ones((3,2),dtype=torch.float16,device='cpu',requires_grad=False)\n",
        "ones_full"
      ],
      "metadata": {
        "colab": {
          "base_uri": "https://localhost:8080/"
        },
        "id": "yzAryPLqKj8P",
        "outputId": "6a249c4d-ff47-4905-8290-e25360e0ed83"
      },
      "execution_count": 5,
      "outputs": [
        {
          "output_type": "execute_result",
          "data": {
            "text/plain": [
              "tensor([[1., 1.],\n",
              "        [1., 1.],\n",
              "        [1., 1.]], dtype=torch.float16)"
            ]
          },
          "metadata": {},
          "execution_count": 5
        }
      ]
    },
    {
      "cell_type": "code",
      "source": [
        "ones_full.device"
      ],
      "metadata": {
        "colab": {
          "base_uri": "https://localhost:8080/"
        },
        "id": "qmMg93ZPLJk_",
        "outputId": "e879154e-ec9c-4c37-9250-5fad1185bd34"
      },
      "execution_count": 6,
      "outputs": [
        {
          "output_type": "execute_result",
          "data": {
            "text/plain": [
              "device(type='cpu')"
            ]
          },
          "metadata": {},
          "execution_count": 6
        }
      ]
    },
    {
      "cell_type": "markdown",
      "source": [
        "torch.zeros() creates a tensor filled entirely with the value 0.0, matching the specified shape and data type.\n",
        "\n",
        "Used in:\n",
        "\n",
        "* In deep learning, torch.zeros() is used to initialize biases in neural networks, as zero-initialized biases prevent large initial outputs.\n",
        "* It's also used for creating masks (e.g., zeroing out padded tokens in NLP models) to ensure consistent data processing.\n",
        "\n",
        "- Parameters: size dtype device requires_grad"
      ],
      "metadata": {
        "id": "kUVBB9gALWsP"
      }
    },
    {
      "cell_type": "code",
      "source": [],
      "metadata": {
        "id": "IfFJ_SczLwDN"
      },
      "execution_count": null,
      "outputs": []
    }
  ]
}