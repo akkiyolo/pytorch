{
  "nbformat": 4,
  "nbformat_minor": 0,
  "metadata": {
    "colab": {
      "provenance": [],
      "authorship_tag": "ABX9TyNyDgwIcKB8uRqwKRjNgdK1",
      "include_colab_link": true
    },
    "kernelspec": {
      "name": "python3",
      "display_name": "Python 3"
    },
    "language_info": {
      "name": "python"
    }
  },
  "cells": [
    {
      "cell_type": "markdown",
      "metadata": {
        "id": "view-in-github",
        "colab_type": "text"
      },
      "source": [
        "<a href=\"https://colab.research.google.com/github/akkiyolo/pytorch/blob/main/random_tensors.ipynb\" target=\"_parent\"><img src=\"https://colab.research.google.com/assets/colab-badge.svg\" alt=\"Open In Colab\"/></a>"
      ]
    },
    {
      "cell_type": "markdown",
      "source": [
        "# torch.randint() — Random Integers in a Range\n",
        "\n",
        "Generates integers between low (inclusive) and high (exclusive).\n",
        "Generates a tensor with random integers between a given range (low, high)"
      ],
      "metadata": {
        "id": "zZt5nqvPIUrf"
      }
    },
    {
      "cell_type": "code",
      "execution_count": 2,
      "metadata": {
        "id": "yKY2uo9AIINY"
      },
      "outputs": [],
      "source": [
        "import torch"
      ]
    },
    {
      "cell_type": "code",
      "source": [
        "tensor_a=torch.randint(low=0,high=10,size=(2,4))\n",
        "tensor_a"
      ],
      "metadata": {
        "colab": {
          "base_uri": "https://localhost:8080/"
        },
        "id": "W1XroptNIZZG",
        "outputId": "460d93a8-b7a1-425c-ba95-76ca783564b4"
      },
      "execution_count": 3,
      "outputs": [
        {
          "output_type": "execute_result",
          "data": {
            "text/plain": [
              "tensor([[3, 5, 0, 1],\n",
              "        [2, 1, 4, 3]])"
            ]
          },
          "metadata": {},
          "execution_count": 3
        }
      ]
    },
    {
      "cell_type": "markdown",
      "source": [
        "# torch.rand() — Uniform Distribution\n",
        "\n",
        "Generates a tensor filled with random numbers from a uniform distribution in the range [0, 1].\n",
        "Simply understand this: Use `torch.rand()` when you want values between 0 and 1.\n",
        "\n",
        "## Parameters:\n",
        "- `size (tuple of ints)`: Shape of the tensor (e.g., (2, 3), (4,), etc.).\n",
        "- `dtype (optional)`: Data type of the tensor (e.g., torch.float32, torch.float64). Defaults to float.\n",
        "- `device (optional)`: Where to create the tensor: 'cpu' or 'cuda' for GPU.\n",
        "- `requires_grad (optional)`: Set to True if you want to track operations for gradient computation (used in training neural networks).\n",
        "\n",
        "- When you want random values equally likely between 0 and 1.\n",
        "- Often used in weight initialization, data simulation, or probability sampling."
      ],
      "metadata": {
        "id": "Kzj3RGR8I1cC"
      }
    },
    {
      "cell_type": "code",
      "source": [
        "torch.rand(2,3)"
      ],
      "metadata": {
        "colab": {
          "base_uri": "https://localhost:8080/"
        },
        "id": "GnbmaKX4I5QQ",
        "outputId": "17f28355-d283-44c8-9002-5dcdac5fd937"
      },
      "execution_count": 4,
      "outputs": [
        {
          "output_type": "execute_result",
          "data": {
            "text/plain": [
              "tensor([[0.7425, 0.5818, 0.6432],\n",
              "        [0.1877, 0.5892, 0.7446]])"
            ]
          },
          "metadata": {},
          "execution_count": 4
        }
      ]
    },
    {
      "cell_type": "markdown",
      "source": [
        "# torch.randn() — Normal (Gaussian) Distribution\n",
        "\n",
        "Returns values sampled from a normal distribution with mean = 0 and standard deviation = 1.\n",
        "\n",
        "## Parameters:\n",
        "- `size (tuple of ints)`: Shape of the tensor (e.g., (2, 3), (4,), etc.).\n",
        "- `dtype (optional)`: Data type of the tensor (e.g., torch.float32, torch.float64). Defaults to float.\n",
        "- `device (optional)`: Where to create the tensor: 'cpu' or 'cuda' for GPU.\n",
        "- `requires_grad (optional)`: Set to True if you want to track operations for gradient computation (used in training neural networks).\n",
        "\n",
        "- When you want random values from a standard normal distribution.\n",
        "- Often used in weight initialization, adding noise, or simulations."
      ],
      "metadata": {
        "id": "ZOHzo-axO3Dp"
      }
    },
    {
      "cell_type": "code",
      "source": [
        "torch.randn(2,3)"
      ],
      "metadata": {
        "colab": {
          "base_uri": "https://localhost:8080/"
        },
        "id": "gjG1Rt78POa4",
        "outputId": "49ee2758-c81e-4e1f-8ea4-7697d119d411"
      },
      "execution_count": 5,
      "outputs": [
        {
          "output_type": "execute_result",
          "data": {
            "text/plain": [
              "tensor([[ 3.1986, -1.0507,  1.4998],\n",
              "        [-0.5696, -1.6225,  0.7863]])"
            ]
          },
          "metadata": {},
          "execution_count": 5
        }
      ]
    }
  ]
}