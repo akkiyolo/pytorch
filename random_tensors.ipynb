{
  "nbformat": 4,
  "nbformat_minor": 0,
  "metadata": {
    "colab": {
      "provenance": [],
      "authorship_tag": "ABX9TyM3zPjg1h5BDgP2SwnFF+vM",
      "include_colab_link": true
    },
    "kernelspec": {
      "name": "python3",
      "display_name": "Python 3"
    },
    "language_info": {
      "name": "python"
    }
  },
  "cells": [
    {
      "cell_type": "markdown",
      "metadata": {
        "id": "view-in-github",
        "colab_type": "text"
      },
      "source": [
        "<a href=\"https://colab.research.google.com/github/akkiyolo/pytorch/blob/main/random_tensors.ipynb\" target=\"_parent\"><img src=\"https://colab.research.google.com/assets/colab-badge.svg\" alt=\"Open In Colab\"/></a>"
      ]
    },
    {
      "cell_type": "markdown",
      "source": [
        "# torch.randint() — Random Integers in a Range\n",
        "\n",
        "Generates integers between low (inclusive) and high (exclusive).\n",
        "Generates a tensor with random integers between a given range (low, high)"
      ],
      "metadata": {
        "id": "zZt5nqvPIUrf"
      }
    },
    {
      "cell_type": "code",
      "execution_count": 1,
      "metadata": {
        "id": "yKY2uo9AIINY"
      },
      "outputs": [],
      "source": [
        "import torch"
      ]
    },
    {
      "cell_type": "code",
      "source": [
        "tensor_a=torch.randint(low=0,high=10,size=(2,4))\n",
        "tensor_a"
      ],
      "metadata": {
        "colab": {
          "base_uri": "https://localhost:8080/"
        },
        "id": "W1XroptNIZZG",
        "outputId": "2092b9e4-b9bc-4f56-f51e-2e32eb595cd7"
      },
      "execution_count": 3,
      "outputs": [
        {
          "output_type": "execute_result",
          "data": {
            "text/plain": [
              "tensor([[9, 7, 5, 0],\n",
              "        [8, 0, 2, 8]])"
            ]
          },
          "metadata": {},
          "execution_count": 3
        }
      ]
    },
    {
      "cell_type": "markdown",
      "source": [
        "# torch.rand() — Uniform Distribution\n",
        "\n",
        "Generates a tensor filled with random numbers from a uniform distribution in the range [0, 1].\n",
        "Simply understand this: Use `torch.rand()` when you want values between 0 and 1.\n",
        "\n",
        "## Parameters:\n",
        "- `size (tuple of ints)`: Shape of the tensor (e.g., (2, 3), (4,), etc.).\n",
        "- `dtype (optional)`: Data type of the tensor (e.g., torch.float32, torch.float64). Defaults to float.\n",
        "- `device (optional)`: Where to create the tensor: 'cpu' or 'cuda' for GPU.\n",
        "- `requires_grad (optional)`: Set to True if you want to track operations for gradient computation (used in training neural networks).\n",
        "\n",
        "- When you want random values equally likely between 0 and 1.\n",
        "- Often used in weight initialization, data simulation, or probability sampling."
      ],
      "metadata": {
        "id": "Kzj3RGR8I1cC"
      }
    },
    {
      "cell_type": "code",
      "source": [],
      "metadata": {
        "id": "GnbmaKX4I5QQ"
      },
      "execution_count": null,
      "outputs": []
    }
  ]
}